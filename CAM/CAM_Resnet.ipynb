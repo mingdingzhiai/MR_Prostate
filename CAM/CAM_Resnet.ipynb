{
 "cells": [
  {
   "cell_type": "code",
   "execution_count": 1,
   "metadata": {},
   "outputs": [],
   "source": [
    "import os\n",
    "from glob import glob\n",
    "import csv\n",
    "import cv2\n",
    "import numpy as np\n",
    "import matplotlib.pyplot as plt\n",
    "import random"
   ]
  },
  {
   "cell_type": "code",
   "execution_count": 2,
   "metadata": {},
   "outputs": [
    {
     "name": "stdout",
     "output_type": "stream",
     "text": [
      "113\n",
      "46\n"
     ]
    }
   ],
   "source": [
    "TRUE_IMG_PATH='./True/'\n",
    "FALSE_IMG_PATH='./False/'\n",
    "pixel_size=64\n",
    "\n",
    "\n",
    "true_imgs=glob(TRUE_IMG_PATH+'*')\n",
    "false_imgs=glob(FALSE_IMG_PATH+'*')\n",
    "all_imgs=true_imgs+false_imgs\n",
    "\n",
    "print(len(true_imgs))\n",
    "print (len(false_imgs))\n",
    "\n",
    "len_imgs=len(true_imgs)+len(false_imgs)\n",
    "\n",
    "x_input=np.array((len_imgs,pixel_size,pixel_size,1))\n",
    "x_label=[]\n",
    "\n",
    "true_label=[]\n",
    "false_label=[]\n",
    "\n",
    "def read_img_label(img_list,label):\n",
    "    label_list=[]\n",
    "    imgs_array=np.zeros((len(img_list),pixel_size,pixel_size,1))\n",
    "    for i,img in enumerate(img_list):\n",
    "        img_array=cv2.resize(cv2.imread(img,0),(pixel_size,pixel_size))\n",
    "        label_list.append(label)\n",
    "        imgs_array[i,:,:,0]=img_array\n",
    "    label_list=np.array(label_list)\n",
    "    return imgs_array,label_list\n",
    "        \n",
    "true_inputs,true_labels = read_img_label(true_imgs,[0,1])\n",
    "false_inputs,false_labels = read_img_label(false_imgs,[1,0])\n",
    "\n",
    "\n",
    "\n",
    "        "
   ]
  },
  {
   "cell_type": "code",
   "execution_count": 3,
   "metadata": {},
   "outputs": [
    {
     "name": "stdout",
     "output_type": "stream",
     "text": [
      "(113, 64, 64, 1)\n"
     ]
    },
    {
     "data": {
      "image/png": "[encoded data removed]",
      "text/plain": [
       "<Figure size 432x288 with 1 Axes>"
      ]
     },
     "metadata": {
      "needs_background": "light"
     },
     "output_type": "display_data"
    }
   ],
   "source": [
    "print (true_inputs.shape)\n",
    "\n",
    "plt.imshow(true_inputs[10,:,:,0],cmap=plt.cm.gray)\n",
    "plt.show()\n",
    "\n",
    "def shuffle_data(a,b,r1):\n",
    "    assert len(a)==len(b)\n",
    "    r=range(len(a))\n",
    "    random.shuffle(r,lambda: r1)\n",
    "    p=np.array(r)\n",
    "    \n",
    "    return a[p],b[p]\n",
    "\n",
    "\n",
    "data=np.vstack((true_inputs,false_inputs))\n",
    "labels=np.vstack((true_labels,false_labels))\n",
    "\n",
    "\n",
    "data,labels=shuffle_data(data,labels,0.1)\n",
    "\n",
    "\n",
    "split_point=int(round(0.8*len(data)))\n",
    "(x_train,x_val)=(data[:split_point],data[split_point:])\n",
    "(y_train,y_val)= (labels[:split_point],labels[split_point:])\n"
   ]
  },
  {
   "cell_type": "code",
   "execution_count": 4,
   "metadata": {},
   "outputs": [
    {
     "name": "stderr",
     "output_type": "stream",
     "text": [
      "Using TensorFlow backend.\n"
     ]
    }
   ],
   "source": [
    "import numpy as np\n",
    "import keras\n",
    "\n",
    "from keras.datasets import mnist\n",
    "from keras.models import Sequential, Model\n",
    "from keras.layers import Dense, Dropout, Flatten, Activation, Input\n",
    "from keras.layers import Conv2D, MaxPooling2D\n",
    "from keras import backend as K\n",
    "from keras.preprocessing.image import ImageDataGenerator\n",
    "from keras.models import Sequential\n",
    "from keras.layers import Dense, Dropout, Activation, Flatten\n",
    "from keras.layers import Conv2D, MaxPooling2D\n",
    "import os\n",
    "from keras.layers.normalization import BatchNormalization\n",
    "from keras.callbacks import ReduceLROnPlateau, CSVLogger, EarlyStopping"
   ]
  },
  {
   "cell_type": "code",
   "execution_count": 5,
   "metadata": {},
   "outputs": [
    {
     "name": "stdout",
     "output_type": "stream",
     "text": [
      "Not using data augmentation.\n"
     ]
    },
    {
     "name": "stderr",
     "output_type": "stream",
     "text": [
      "/home/ilab/anaconda2/envs/Dinghow/lib/python2.7/site-packages/ipykernel_launcher.py:39: UserWarning: The `nb_epoch` argument in `fit` has been renamed `epochs`.\n"
     ]
    },
    {
     "name": "stdout",
     "output_type": "stream",
     "text": [
      "Train on 127 samples, validate on 32 samples\n",
      "Epoch 1/200\n",
      "127/127 [==============================] - 7s 57ms/step - loss: 1.7099 - acc: 0.6929 - val_loss: 1.6561 - val_acc: 0.7812\n",
      "Epoch 2/200\n",
      "127/127 [==============================] - 3s 25ms/step - loss: 1.1274 - acc: 0.9449 - val_loss: 1.5812 - val_acc: 0.8750\n",
      "Epoch 3/200\n",
      "127/127 [==============================] - 3s 25ms/step - loss: 1.0604 - acc: 0.9685 - val_loss: 1.5603 - val_acc: 0.8438\n",
      "Epoch 4/200\n",
      "127/127 [==============================] - 3s 25ms/step - loss: 1.0355 - acc: 0.9764 - val_loss: 1.7187 - val_acc: 0.8125\n",
      "Epoch 5/200\n",
      "127/127 [==============================] - 3s 24ms/step - loss: 1.1142 - acc: 0.9370 - val_loss: 4.7484 - val_acc: 0.2812\n",
      "Epoch 6/200\n",
      "127/127 [==============================] - 3s 24ms/step - loss: 0.9874 - acc: 0.9921 - val_loss: 6.2364 - val_acc: 0.1250\n",
      "Epoch 7/200\n",
      "127/127 [==============================] - 3s 25ms/step - loss: 0.9508 - acc: 0.9921 - val_loss: 4.2182 - val_acc: 0.2188\n",
      "Epoch 8/200\n",
      "127/127 [==============================] - 3s 25ms/step - loss: 0.9281 - acc: 0.9921 - val_loss: 4.8239 - val_acc: 0.1875\n",
      "Epoch 9/200\n",
      "127/127 [==============================] - 3s 24ms/step - loss: 0.9053 - acc: 0.9921 - val_loss: 4.6192 - val_acc: 0.1875\n",
      "Epoch 10/200\n",
      "127/127 [==============================] - 3s 25ms/step - loss: 0.9117 - acc: 0.9843 - val_loss: 4.8900 - val_acc: 0.1875\n",
      "Epoch 11/200\n",
      "127/127 [==============================] - 3s 24ms/step - loss: 0.8884 - acc: 0.9921 - val_loss: 4.8138 - val_acc: 0.1875\n",
      "Epoch 12/200\n",
      "127/127 [==============================] - 3s 24ms/step - loss: 0.8968 - acc: 0.9843 - val_loss: 3.4153 - val_acc: 0.4688\n",
      "Epoch 13/200\n",
      "127/127 [==============================] - 3s 24ms/step - loss: 0.8781 - acc: 0.9921 - val_loss: 2.8983 - val_acc: 0.5938\n"
     ]
    }
   ],
   "source": [
    "from keras.datasets import cifar10\n",
    "from keras.preprocessing.image import ImageDataGenerator\n",
    "from keras.utils import np_utils\n",
    "from keras.callbacks import ReduceLROnPlateau, CSVLogger, EarlyStopping\n",
    "\n",
    "import numpy as np\n",
    "import resnet\n",
    "\n",
    "os.environ[\"CUDA_VISIBLE_DEVICES\"] = '1'\n",
    "\n",
    "\n",
    "lr_reducer = ReduceLROnPlateau(factor=np.sqrt(0.1), cooldown=0, patience=5, min_lr=0.5e-6)\n",
    "early_stopper = EarlyStopping(min_delta=0.001, patience=10)\n",
    "# csv_logger = CSVLogger('resnet18_cifar10.csv')\n",
    "\n",
    "batch_size = 32\n",
    "nb_classes = 2\n",
    "nb_epoch = 200\n",
    "data_augmentation = False\n",
    "\n",
    "# input image dimensions\n",
    "img_rows, img_cols = 64, 64\n",
    "# The CIFAR10 images are RGB.\n",
    "img_channels = 1\n",
    "\n",
    "#\n",
    "model = resnet.ResnetBuilder.build_resnet_18((img_channels, img_rows, img_cols), nb_classes)\n",
    "model.compile(loss='categorical_crossentropy',\n",
    "              optimizer='adam',\n",
    "              metrics=['accuracy'])\n",
    "\n",
    "if not data_augmentation:\n",
    "    print('Not using data augmentation.')\n",
    "    model.fit(x_train, y_train,\n",
    "              batch_size=batch_size,\n",
    "              nb_epoch=nb_epoch,\n",
    "              validation_data=(x_val, y_val),\n",
    "              shuffle=True,\n",
    "              callbacks=[lr_reducer, early_stopper])\n",
    "else:\n",
    "    print('Using real-time data augmentation.')\n",
    "    # This will do preprocessing and realtime data augmentation:\n",
    "    datagen = ImageDataGenerator(\n",
    "        featurewise_center=False,  # set input mean to 0 over the dataset\n",
    "        samplewise_center=False,  # set each sample mean to 0\n",
    "        featurewise_std_normalization=False,  # divide inputs by std of the dataset\n",
    "        samplewise_std_normalization=False,  # divide each input by its std\n",
    "        zca_whitening=False,  # apply ZCA whitening\n",
    "        rotation_range=0,  # randomly rotate images in the range (degrees, 0 to 180)\n",
    "        width_shift_range=0.1,  # randomly shift images horizontally (fraction of total width)\n",
    "        height_shift_range=0.1,  # randomly shift images vertically (fraction of total height)\n",
    "        horizontal_flip=True,  # randomly flip images\n",
    "        vertical_flip=False)  # randomly flip images\n",
    "\n",
    "    # Compute quantities required for featurewise normalization\n",
    "    # (std, mean, and principal components if ZCA whitening is applied).\n",
    "    datagen.fit(x_train)\n",
    "\n",
    "    # Fit the model on the batches generated by datagen.flow().\n",
    "    model.fit_generator(datagen.flow(x_train, y_train, batch_size=batch_size),\n",
    "                        steps_per_epoch=x_train.shape[0] // batch_size,\n",
    "                        validation_data=(x_val, y_val),\n",
    "                        epochs=nb_epoch, verbose=1, max_q_size=100,\n",
    "                        callbacks=[lr_reducer, early_stopper, csv_logger])\n",
    "\n",
    "# model.summary()"
   ]
  },
  {
   "cell_type": "code",
   "execution_count": 6,
   "metadata": {},
   "outputs": [],
   "source": [
    "from vis.visualization import visualize_saliency,overlay\n",
    "from vis.utils import utils\n",
    "from keras import activations\n",
    "from vis.visualization import visualize_cam\n",
    "import matplotlib.cm as cm\n",
    "\n",
    "i=20\n",
    "# Utility to search for layer index by name. \n",
    "# Alternatively we can specify this as -1 since it corresponds to the last layer.\n",
    "# layer_idx = utils.find_layer_idx(model, 0)\n",
    "\n",
    "# Swap softmax with linear\n",
    "model.layers[5].activation = activations.linear\n",
    "model = utils.apply_modifications(model)\n"
   ]
  },
  {
   "cell_type": "code",
   "execution_count": 7,
   "metadata": {},
   "outputs": [
    {
     "name": "stdout",
     "output_type": "stream",
     "text": [
      "(64, 64)\n",
      "(64, 64, 1)\n"
     ]
    }
   ],
   "source": [
    "index=13\n",
    "\n",
    "# img=cv2.imread(true_imgs[index],0)\n",
    "img=cv2.imread('../../CAM-Data/CAM/Result/SegImage.png',0)\n",
    "\n",
    "# print(true_imgs[index])\n",
    "# img=cv2.imread('./Predict_Img/3.png',0)\n",
    "\n",
    "img=cv2.resize(img,(64,64))\n",
    "print (img.shape)\n",
    "img=np.reshape(img,(64,64,1))\n",
    "print (img.shape)"
   ]
  },
  {
   "cell_type": "code",
   "execution_count": 10,
   "metadata": {},
   "outputs": [
    {
     "data": {
      "image/png": "[encoded data removed]",
      "text/plain": [
       "<Figure size 432x288 with 1 Axes>"
      ]
     },
     "metadata": {
      "needs_background": "light"
     },
     "output_type": "display_data"
    },
    {
     "data": {
      "image/png": "[encoded data removed]",
      "text/plain": [
       "<Figure size 432x288 with 1 Axes>"
      ]
     },
     "metadata": {
      "needs_background": "light"
     },
     "output_type": "display_data"
    },
    {
     "name": "stderr",
     "output_type": "stream",
     "text": [
      "/home/ilab/anaconda2/envs/Dinghow/lib/python2.7/site-packages/ipykernel_launcher.py:23: DeprecationWarning: `imsave` is deprecated!\n",
      "`imsave` is deprecated in SciPy 1.0.0, and will be removed in 1.2.0.\n",
      "Use ``imageio.imwrite`` instead.\n"
     ]
    }
   ],
   "source": [
    "for t in range(1):\n",
    "# for t in range(1,30):\n",
    "#     print (t)\n",
    "    grads = visualize_cam(model, 5,filter_indices=2, seed_input=img,backprop_modifier='relu')\n",
    "#     print (grads.shape)\n",
    "    # Plot with 'jet' colormap to visualize as a heatmap.\n",
    "\n",
    "#     print (img.shape)\n",
    "\n",
    "    plt.imshow(img[...,0],cmap=plt.cm.gray)\n",
    "    plt.show()\n",
    "\n",
    "    jet_heatmap = np.uint8(cm.jet(grads)[..., :3] * 255)\n",
    "    # plt.imshow(overlay(jet_heatmap, x_val_pic[1]))\n",
    "\n",
    "    plt.imshow(grads, cmap='jet')\n",
    "\n",
    "    plt.show()\n",
    "\n",
    "\n",
    "    from scipy.misc import imsave\n",
    "\n",
    "    imsave('./Result/G1.jpg',grads)"
   ]
  },
  {
   "cell_type": "code",
   "execution_count": null,
   "metadata": {},
   "outputs": [],
   "source": []
  }
 ],
 "metadata": {
  "kernelspec": {
   "display_name": "Python2(conda)",
   "language": "python",
   "name": "dinghow"
  },
  "language_info": {
   "codemirror_mode": {
    "name": "ipython",
    "version": 2
   },
   "file_extension": ".py",
   "mimetype": "text/x-python",
   "name": "python",
   "nbconvert_exporter": "python",
   "pygments_lexer": "ipython2",
   "version": "2.7.13"
  }
 },
 "nbformat": 4,
 "nbformat_minor": 2
}
