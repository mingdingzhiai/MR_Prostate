{
 "cells": [
  {
   "cell_type": "code",
   "execution_count": 26,
   "metadata": {},
   "outputs": [
    {
     "name": "stdout",
     "output_type": "stream",
     "text": [
      "159\n",
      "113\n"
     ]
    }
   ],
   "source": [
    "from glob import glob\n",
    "import os\n",
    "import shutil\n",
    "\n",
    "\n",
    "root_path = 'C:\\\\Users\\\\ilab\\\\Desktop\\\\Processed_Data\\\\'\n",
    "save_roi_path = 'C:\\\\Users\\\\ilab\\\\Desktop\\\\Test\\\\Classification_ROI\\\\'\n",
    "\n",
    "\n",
    "series = 'T2'\n",
    "task = 'Classification'\n",
    "\n",
    "all_imgs = glob(root_path+series+'\\\\'+task +'\\\\*\\\\*')\n",
    "\n",
    "pca_imgs_1 = glob(root_path+series+'\\\\'+task +'\\\\7\\\\*')\n",
    "pca_imgs_2 = glob(root_path+series+'\\\\'+task +'\\\\8\\\\*')\n",
    "pca_imgs_3 = glob(root_path+series+'\\\\'+task +'\\\\9\\\\*')\n",
    "pca_imgs_4 = glob(root_path+series+'\\\\'+task +'\\\\10\\\\*')\n",
    "\n",
    "pca_imgs = pca_imgs_1+pca_imgs_2+pca_imgs_3+pca_imgs_4\n",
    "other_imgs = list(set(all_imgs)-set(pca_imgs))\n",
    "\n",
    "\n",
    "print (len(all_imgs))\n",
    "print (len(pca_imgs))\n",
    "\n",
    "for t_img in pca_imgs:\n",
    "    shutil.copy(t_img,save_roi_path+'True\\\\')\n",
    "\n",
    "\n",
    "for f_img in other_imgs:\n",
    "    shutil.copy(f_img,save_roi_path+'False\\\\')\n",
    "\n"
   ]
  }
 ],
 "metadata": {
  "kernelspec": {
   "display_name": "Python 2",
   "language": "python",
   "name": "python2"
  },
  "language_info": {
   "codemirror_mode": {
    "name": "ipython",
    "version": 2
   },
   "file_extension": ".py",
   "mimetype": "text/x-python",
   "name": "python",
   "nbconvert_exporter": "python",
   "pygments_lexer": "ipython2",
   "version": "2.7.15"
  }
 },
 "nbformat": 4,
 "nbformat_minor": 2
}
